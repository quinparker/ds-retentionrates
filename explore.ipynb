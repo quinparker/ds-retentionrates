{
 "cells": [
  {
   "cell_type": "markdown",
   "metadata": {},
   "source": [
    "First, let's import the two data files--in CSV format, import the modules we need, and take a look at the first few rows."
   ]
  },
  {
   "cell_type": "code",
   "execution_count": 31,
   "metadata": {},
   "outputs": [],
   "source": [
    "import pandas as pd\n",
    "import numpy as np\n",
    "import matplotlib.pyplot as plt\n",
    "data = pd.read_csv(\"~/Documents/data/raw/2016/ef2016d.csv\")\n",
    "titles = pd.read_csv(\"~/Documents/data/raw/2016/hd2016.csv\", encoding = \"ISO-8859-1\")"
   ]
  },
  {
   "cell_type": "markdown",
   "metadata": {},
   "source": [
    "## Institutional information data"
   ]
  },
  {
   "cell_type": "code",
   "execution_count": 32,
   "metadata": {},
   "outputs": [
    {
     "data": {
      "text/html": [
       "<div>\n",
       "<style scoped>\n",
       "    .dataframe tbody tr th:only-of-type {\n",
       "        vertical-align: middle;\n",
       "    }\n",
       "\n",
       "    .dataframe tbody tr th {\n",
       "        vertical-align: top;\n",
       "    }\n",
       "\n",
       "    .dataframe thead th {\n",
       "        text-align: right;\n",
       "    }\n",
       "</style>\n",
       "<table border=\"1\" class=\"dataframe\">\n",
       "  <thead>\n",
       "    <tr style=\"text-align: right;\">\n",
       "      <th></th>\n",
       "      <th>UNITID</th>\n",
       "      <th>INSTNM</th>\n",
       "      <th>IALIAS</th>\n",
       "      <th>ADDR</th>\n",
       "      <th>CITY</th>\n",
       "      <th>STABBR</th>\n",
       "      <th>ZIP</th>\n",
       "      <th>FIPS</th>\n",
       "      <th>OBEREG</th>\n",
       "      <th>CHFNM</th>\n",
       "      <th>...</th>\n",
       "      <th>CBSATYPE</th>\n",
       "      <th>CSA</th>\n",
       "      <th>NECTA</th>\n",
       "      <th>COUNTYCD</th>\n",
       "      <th>COUNTYNM</th>\n",
       "      <th>CNGDSTCD</th>\n",
       "      <th>LONGITUD</th>\n",
       "      <th>LATITUDE</th>\n",
       "      <th>DFRCGID</th>\n",
       "      <th>DFRCUSCG</th>\n",
       "    </tr>\n",
       "  </thead>\n",
       "  <tbody>\n",
       "    <tr>\n",
       "      <th>0</th>\n",
       "      <td>100654</td>\n",
       "      <td>Alabama A &amp; M University</td>\n",
       "      <td>AAMU</td>\n",
       "      <td>4900 Meridian Street</td>\n",
       "      <td>Normal</td>\n",
       "      <td>AL</td>\n",
       "      <td>35762</td>\n",
       "      <td>1</td>\n",
       "      <td>5</td>\n",
       "      <td>Dr. Andrew Hugine, Jr.</td>\n",
       "      <td>...</td>\n",
       "      <td>1</td>\n",
       "      <td>290</td>\n",
       "      <td>-2</td>\n",
       "      <td>1089</td>\n",
       "      <td>Madison County</td>\n",
       "      <td>105</td>\n",
       "      <td>-86.568502</td>\n",
       "      <td>34.783368</td>\n",
       "      <td>128</td>\n",
       "      <td>1</td>\n",
       "    </tr>\n",
       "    <tr>\n",
       "      <th>1</th>\n",
       "      <td>100663</td>\n",
       "      <td>University of Alabama at Birmingham</td>\n",
       "      <td></td>\n",
       "      <td>Administration Bldg Suite 1070</td>\n",
       "      <td>Birmingham</td>\n",
       "      <td>AL</td>\n",
       "      <td>35294-0110</td>\n",
       "      <td>1</td>\n",
       "      <td>5</td>\n",
       "      <td>Ray L. Watts</td>\n",
       "      <td>...</td>\n",
       "      <td>1</td>\n",
       "      <td>142</td>\n",
       "      <td>-2</td>\n",
       "      <td>1073</td>\n",
       "      <td>Jefferson County</td>\n",
       "      <td>107</td>\n",
       "      <td>-86.799345</td>\n",
       "      <td>33.505697</td>\n",
       "      <td>115</td>\n",
       "      <td>1</td>\n",
       "    </tr>\n",
       "    <tr>\n",
       "      <th>2</th>\n",
       "      <td>100690</td>\n",
       "      <td>Amridge University</td>\n",
       "      <td>Southern Christian University |Regions University</td>\n",
       "      <td>1200 Taylor Rd</td>\n",
       "      <td>Montgomery</td>\n",
       "      <td>AL</td>\n",
       "      <td>36117-3553</td>\n",
       "      <td>1</td>\n",
       "      <td>5</td>\n",
       "      <td>Michael Turner</td>\n",
       "      <td>...</td>\n",
       "      <td>1</td>\n",
       "      <td>-2</td>\n",
       "      <td>-2</td>\n",
       "      <td>1101</td>\n",
       "      <td>Montgomery County</td>\n",
       "      <td>102</td>\n",
       "      <td>-86.174010</td>\n",
       "      <td>32.362609</td>\n",
       "      <td>236</td>\n",
       "      <td>2</td>\n",
       "    </tr>\n",
       "    <tr>\n",
       "      <th>3</th>\n",
       "      <td>100706</td>\n",
       "      <td>University of Alabama in Huntsville</td>\n",
       "      <td>UAH |University of Alabama Huntsville</td>\n",
       "      <td>301 Sparkman Dr</td>\n",
       "      <td>Huntsville</td>\n",
       "      <td>AL</td>\n",
       "      <td>35899</td>\n",
       "      <td>1</td>\n",
       "      <td>5</td>\n",
       "      <td>Robert A. Altenkirch</td>\n",
       "      <td>...</td>\n",
       "      <td>1</td>\n",
       "      <td>290</td>\n",
       "      <td>-2</td>\n",
       "      <td>1089</td>\n",
       "      <td>Madison County</td>\n",
       "      <td>105</td>\n",
       "      <td>-86.640449</td>\n",
       "      <td>34.724557</td>\n",
       "      <td>118</td>\n",
       "      <td>2</td>\n",
       "    </tr>\n",
       "    <tr>\n",
       "      <th>4</th>\n",
       "      <td>100724</td>\n",
       "      <td>Alabama State University</td>\n",
       "      <td></td>\n",
       "      <td>915 S Jackson Street</td>\n",
       "      <td>Montgomery</td>\n",
       "      <td>AL</td>\n",
       "      <td>36104-0271</td>\n",
       "      <td>1</td>\n",
       "      <td>5</td>\n",
       "      <td>Leon Wilson</td>\n",
       "      <td>...</td>\n",
       "      <td>1</td>\n",
       "      <td>-2</td>\n",
       "      <td>-2</td>\n",
       "      <td>1101</td>\n",
       "      <td>Montgomery County</td>\n",
       "      <td>107</td>\n",
       "      <td>-86.295677</td>\n",
       "      <td>32.364317</td>\n",
       "      <td>136</td>\n",
       "      <td>1</td>\n",
       "    </tr>\n",
       "  </tbody>\n",
       "</table>\n",
       "<p>5 rows × 72 columns</p>\n",
       "</div>"
      ],
      "text/plain": [
       "   UNITID                               INSTNM  \\\n",
       "0  100654             Alabama A & M University   \n",
       "1  100663  University of Alabama at Birmingham   \n",
       "2  100690                   Amridge University   \n",
       "3  100706  University of Alabama in Huntsville   \n",
       "4  100724             Alabama State University   \n",
       "\n",
       "                                              IALIAS  \\\n",
       "0                                               AAMU   \n",
       "1                                                      \n",
       "2  Southern Christian University |Regions University   \n",
       "3              UAH |University of Alabama Huntsville   \n",
       "4                                                      \n",
       "\n",
       "                             ADDR        CITY STABBR         ZIP  FIPS  \\\n",
       "0            4900 Meridian Street      Normal     AL       35762     1   \n",
       "1  Administration Bldg Suite 1070  Birmingham     AL  35294-0110     1   \n",
       "2                  1200 Taylor Rd  Montgomery     AL  36117-3553     1   \n",
       "3                 301 Sparkman Dr  Huntsville     AL       35899     1   \n",
       "4            915 S Jackson Street  Montgomery     AL  36104-0271     1   \n",
       "\n",
       "   OBEREG                   CHFNM   ...    CBSATYPE  CSA  NECTA COUNTYCD  \\\n",
       "0       5  Dr. Andrew Hugine, Jr.   ...           1  290     -2     1089   \n",
       "1       5            Ray L. Watts   ...           1  142     -2     1073   \n",
       "2       5          Michael Turner   ...           1   -2     -2     1101   \n",
       "3       5    Robert A. Altenkirch   ...           1  290     -2     1089   \n",
       "4       5             Leon Wilson   ...           1   -2     -2     1101   \n",
       "\n",
       "            COUNTYNM  CNGDSTCD   LONGITUD   LATITUDE DFRCGID DFRCUSCG  \n",
       "0     Madison County       105 -86.568502  34.783368     128        1  \n",
       "1   Jefferson County       107 -86.799345  33.505697     115        1  \n",
       "2  Montgomery County       102 -86.174010  32.362609     236        2  \n",
       "3     Madison County       105 -86.640449  34.724557     118        2  \n",
       "4  Montgomery County       107 -86.295677  32.364317     136        1  \n",
       "\n",
       "[5 rows x 72 columns]"
      ]
     },
     "execution_count": 32,
     "metadata": {},
     "output_type": "execute_result"
    }
   ],
   "source": [
    "titles.head()"
   ]
  },
  {
   "cell_type": "code",
   "execution_count": 23,
   "metadata": {},
   "outputs": [
    {
     "name": "stdout",
     "output_type": "stream",
     "text": [
      "                                       INSTNM  RET_PCF  UGENTERN\n",
      "401                 Pacific States University    100.0       9.0\n",
      "422  Argosy University-San Francisco Bay Area    100.0      24.0\n",
      "435       San Francisco Conservatory of Music    100.0      75.0\n",
      "452  Shasta Bible College and Graduate School    100.0      10.0\n",
      "572        Holy Apostles College and Seminary    100.0      53.0\n",
      "                                        INSTNM  RET_PCF  UGENTERN\n",
      "5904    Chamberlain College of Nursing-Indiana      0.0      87.0\n",
      "6128                 DeVry University-Virginia      0.0     108.0\n",
      "6259  Trine University-Arizona Regional Campus      0.0     148.0\n",
      "6267               West Coast University-Miami      0.0      70.0\n",
      "6302                Yeshiva Gedola Ohr Yisrael      0.0      21.0\n"
     ]
    }
   ],
   "source": [
    "l = pd.merge(data, titles, on = \"UNITID\")\n",
    "institutions = pd.concat([l[\"INSTNM\"], l[\"RET_PCF\"], l[\"UGENTERN\"]], axis = 1) \\\n",
    "                 .dropna() \\\n",
    "                 .sort_values(by = \"RET_PCF\", kind = \"mergesort\", ascending = False)\n",
    "print(institutions.head())\n",
    "print(institutions.tail())"
   ]
  },
  {
   "cell_type": "code",
   "execution_count": 17,
   "metadata": {},
   "outputs": [
    {
     "name": "stdout",
     "output_type": "stream",
     "text": [
      "                                                 INSTNM  RET_PCF\n",
      "6217            The Salon Professional Academy-San Jose    100.0\n",
      "6229               Ogle School Hair Skin Nails-Stafford    100.0\n",
      "6233                     University of Phoenix-Colorado    100.0\n",
      "6235                      University of Phoenix-Georgia    100.0\n",
      "6249                     Rabbinical College Ohr Yisroel    100.0\n",
      "6265           Fountain of Youth Academy of Cosmetology    100.0\n",
      "6290                              Dolce LLC The Academy    100.0\n",
      "6295                        K & G 5 Star Barber College    100.0\n",
      "6296                                 Studio Incamminati    100.0\n",
      "6297                             Salon Boutique Academy    100.0\n",
      "6314                             Ibero American College    100.0\n",
      "6323         San Francisco School of Digital Filmmaking    100.0\n",
      "6326                          Randolph Technical Center    100.0\n",
      "6330                       California Jazz Conservatory    100.0\n",
      "6332                   Laredo CHI Academy Beauty School    100.0\n",
      "6335                                    Gould's Academy    100.0\n",
      "6341                Academy of Professional Cosmetology    100.0\n",
      "6353                                 All Beauty College    100.0\n",
      "6356              Chamberlain College of Nursing-Nevada    100.0\n",
      "6358          Chamberlain College of Nursing-New Jersey    100.0\n",
      "6360                   Paul Mitchell the School-Madison    100.0\n",
      "6369                                Ammi Barber Academy    100.0\n",
      "6374          Aveda Institute Portland-Vancouver Campus    100.0\n",
      "6397       American Academy of Cosmetology-Delray Beach    100.0\n",
      "6402         Butte County Regional Occupational Program    100.0\n",
      "6404                                            Arclabs    100.0\n",
      "6405                     Top of the Line Barber College    100.0\n",
      "6418      Dalton Institute of Esthetics and Cosmetology    100.0\n",
      "6419                            CAAN Academy of Nursing    100.0\n",
      "6420                                Martinsburg College    100.0\n",
      "...                                                 ...      ...\n",
      "5975                                     Unitek College     98.0\n",
      "6488          Caribbean Aviation Training Institute Inc     98.0\n",
      "203                           Brownson Technical School     97.0\n",
      "227                   University of California-Berkeley     97.0\n",
      "230                University of California-Los Angeles     97.0\n",
      "411                                      Pomona College     97.0\n",
      "598                   United States Coast Guard Academy     97.0\n",
      "663                               University of Florida     97.0\n",
      "798         Georgia Institute of Technology-Main Campus     97.0\n",
      "1457                 Hult International Business School     97.0\n",
      "1485             Catherine Hinds Institute of Esthetics     97.0\n",
      "1506                                 Harvard University     97.0\n",
      "1544                            Northeastern University     97.0\n",
      "1572                                   Williams College     97.0\n",
      "1633                   University of Michigan-Ann Arbor     97.0\n",
      "1976                  New England School of Hair Design     97.0\n",
      "2157        Columbia University in the City of New York     97.0\n",
      "2165                                 Cornell University     97.0\n",
      "2224             Jewish Theological Seminary of America     97.0\n",
      "2412                                    Duke University     97.0\n",
      "2929                                  Haverford College     97.0\n",
      "3216  Tennessee College of Applied Technology-Elizab...     97.0\n",
      "3282                              Vanderbilt University     97.0\n",
      "4177                                      CET-Coachella     97.0\n",
      "4929                       Advanced Training Associates     97.0\n",
      "5330                     The Ohio Media School-Columbus     97.0\n",
      "5423               Oliver Finley Academy of Cosmetology     97.0\n",
      "5719                       Institute of Medical Careers     97.0\n",
      "292   FIDM-Fashion Institute of Design & Merchandisi...     96.0\n",
      "447                              Santa Clara University     96.0\n",
      "\n",
      "[100 rows x 2 columns]\n"
     ]
    }
   ],
   "source": [
    "print(institutions.iloc[300:400])"
   ]
  },
  {
   "cell_type": "code",
   "execution_count": 38,
   "metadata": {},
   "outputs": [
    {
     "data": {
      "image/png": "[encoded data removed]",
      "text/plain": [
       "<Figure size 432x288 with 1 Axes>"
      ]
     },
     "metadata": {},
     "output_type": "display_data"
    }
   ],
   "source": [
    "n, bins, patches = plt.hist(institutions[\"RET_PCF\"], bins = 100)\n",
    "plt.grid(True)\n",
    "plt.show()"
   ]
  },
  {
   "cell_type": "code",
   "execution_count": 19,
   "metadata": {},
   "outputs": [
    {
     "data": {
      "text/plain": [
       "70.32658757850663"
      ]
     },
     "execution_count": 19,
     "metadata": {},
     "output_type": "execute_result"
    }
   ],
   "source": [
    "np.mean(institutions[\"RET_PCF\"])"
   ]
  },
  {
   "cell_type": "code",
   "execution_count": 20,
   "metadata": {},
   "outputs": [
    {
     "data": {
      "text/plain": [
       "72.0"
      ]
     },
     "execution_count": 20,
     "metadata": {},
     "output_type": "execute_result"
    }
   ],
   "source": [
    "np.median(institutions[\"RET_PCF\"])"
   ]
  },
  {
   "cell_type": "code",
   "execution_count": 42,
   "metadata": {},
   "outputs": [
    {
     "data": {
      "text/plain": [
       "1466.9829921259843"
      ]
     },
     "execution_count": 42,
     "metadata": {},
     "output_type": "execute_result"
    }
   ],
   "source": [
    "np.mean(institutions[\"UGENTERN\"])"
   ]
  },
  {
   "cell_type": "code",
   "execution_count": 43,
   "metadata": {},
   "outputs": [
    {
     "data": {
      "text/plain": [
       "703.0"
      ]
     },
     "execution_count": 43,
     "metadata": {},
     "output_type": "execute_result"
    }
   ],
   "source": [
    "np.median(institutions[\"UGENTERN\"])"
   ]
  },
  {
   "cell_type": "code",
   "execution_count": 46,
   "metadata": {},
   "outputs": [
    {
     "data": {
      "text/plain": [
       "83.39393939393939"
      ]
     },
     "execution_count": 46,
     "metadata": {},
     "output_type": "execute_result"
    }
   ],
   "source": [
    "institutions100 = institutions.loc[institutions[\"RET_PCF\"] == 100]\n",
    "np.mean(institutions100[\"UGENTERN\"])"
   ]
  },
  {
   "cell_type": "code",
   "execution_count": 47,
   "metadata": {},
   "outputs": [
    {
     "data": {
      "text/plain": [
       "1692.0"
      ]
     },
     "execution_count": 47,
     "metadata": {},
     "output_type": "execute_result"
    }
   ],
   "source": [
    "np.max(institutions100[\"UGENTERN\"])"
   ]
  },
  {
   "cell_type": "code",
   "execution_count": 45,
   "metadata": {},
   "outputs": [
    {
     "data": {
      "text/plain": [
       "23.5"
      ]
     },
     "execution_count": 45,
     "metadata": {},
     "output_type": "execute_result"
    }
   ],
   "source": [
    "np.median(institutions100[\"UGENTERN\"])"
   ]
  },
  {
   "cell_type": "code",
   "execution_count": 29,
   "metadata": {},
   "outputs": [
    {
     "data": {
      "text/html": [
       "<div>\n",
       "<style scoped>\n",
       "    .dataframe tbody tr th:only-of-type {\n",
       "        vertical-align: middle;\n",
       "    }\n",
       "\n",
       "    .dataframe tbody tr th {\n",
       "        vertical-align: top;\n",
       "    }\n",
       "\n",
       "    .dataframe thead th {\n",
       "        text-align: right;\n",
       "    }\n",
       "</style>\n",
       "<table border=\"1\" class=\"dataframe\">\n",
       "  <thead>\n",
       "    <tr style=\"text-align: right;\">\n",
       "      <th></th>\n",
       "      <th>INSTNM</th>\n",
       "      <th>RET_PCF</th>\n",
       "      <th>UGENTERN</th>\n",
       "    </tr>\n",
       "  </thead>\n",
       "  <tbody>\n",
       "    <tr>\n",
       "      <th>401</th>\n",
       "      <td>Pacific States University</td>\n",
       "      <td>100.0</td>\n",
       "      <td>9.0</td>\n",
       "    </tr>\n",
       "    <tr>\n",
       "      <th>422</th>\n",
       "      <td>Argosy University-San Francisco Bay Area</td>\n",
       "      <td>100.0</td>\n",
       "      <td>24.0</td>\n",
       "    </tr>\n",
       "    <tr>\n",
       "      <th>435</th>\n",
       "      <td>San Francisco Conservatory of Music</td>\n",
       "      <td>100.0</td>\n",
       "      <td>75.0</td>\n",
       "    </tr>\n",
       "    <tr>\n",
       "      <th>452</th>\n",
       "      <td>Shasta Bible College and Graduate School</td>\n",
       "      <td>100.0</td>\n",
       "      <td>10.0</td>\n",
       "    </tr>\n",
       "    <tr>\n",
       "      <th>572</th>\n",
       "      <td>Holy Apostles College and Seminary</td>\n",
       "      <td>100.0</td>\n",
       "      <td>53.0</td>\n",
       "    </tr>\n",
       "  </tbody>\n",
       "</table>\n",
       "</div>"
      ],
      "text/plain": [
       "                                       INSTNM  RET_PCF  UGENTERN\n",
       "401                 Pacific States University    100.0       9.0\n",
       "422  Argosy University-San Francisco Bay Area    100.0      24.0\n",
       "435       San Francisco Conservatory of Music    100.0      75.0\n",
       "452  Shasta Bible College and Graduate School    100.0      10.0\n",
       "572        Holy Apostles College and Seminary    100.0      53.0"
      ]
     },
     "execution_count": 29,
     "metadata": {},
     "output_type": "execute_result"
    }
   ],
   "source": [
    "institutions100.head()"
   ]
  },
  {
   "cell_type": "code",
   "execution_count": 37,
   "metadata": {},
   "outputs": [
    {
     "data": {
      "image/png": "[encoded data removed]",
      "text/plain": [
       "<Figure size 432x288 with 1 Axes>"
      ]
     },
     "metadata": {},
     "output_type": "display_data"
    }
   ],
   "source": [
    "n, bins, patches = plt.hist(institutions100[\"UGENTERN\"], bins = 100)\n",
    "plt.grid(True)\n",
    "plt.show()"
   ]
  },
  {
   "cell_type": "code",
   "execution_count": 36,
   "metadata": {},
   "outputs": [
    {
     "data": {
      "image/png": "[encoded data removed]",
      "text/plain": [
       "<Figure size 432x288 with 1 Axes>"
      ]
     },
     "metadata": {},
     "output_type": "display_data"
    }
   ],
   "source": [
    "n, bins, patches = plt.hist(institutions[\"UGENTERN\"], bins = 100)\n",
    "plt.grid(True)\n",
    "plt.show()"
   ]
  },
  {
   "cell_type": "code",
   "execution_count": null,
   "metadata": {},
   "outputs": [],
   "source": [
    "\n"
   ]
  }
 ],
 "metadata": {
  "kernelspec": {
   "display_name": "Python 3",
   "language": "python",
   "name": "python3"
  },
  "language_info": {
   "codemirror_mode": {
    "name": "ipython",
    "version": 3
   },
   "file_extension": ".py",
   "mimetype": "text/x-python",
   "name": "python",
   "nbconvert_exporter": "python",
   "pygments_lexer": "ipython3",
   "version": "3.6.6"
  }
 },
 "nbformat": 4,
 "nbformat_minor": 2
}
